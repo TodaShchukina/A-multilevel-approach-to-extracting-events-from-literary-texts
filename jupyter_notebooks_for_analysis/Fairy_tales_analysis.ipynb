{
 "cells": [
  {
   "cell_type": "markdown",
   "metadata": {
    "collapsed": true,
    "pycharm": {
     "name": "#%% md\n"
    }
   },
   "source": [
    "## Imports and settings"
   ]
  },
  {
   "cell_type": "code",
   "execution_count": 30,
   "outputs": [
    {
     "name": "stderr",
     "output_type": "stream",
     "text": [
      "[nltk_data] Downloading package wordnet to\n",
      "[nltk_data]     /Users/anastasiiatodoshchuk/nltk_data...\n",
      "[nltk_data]   Package wordnet is already up-to-date!\n"
     ]
    },
    {
     "name": "stdout",
     "output_type": "stream",
     "text": [
      "DONE!\n"
     ]
    }
   ],
   "source": [
    "import ast\n",
    "import pandas as pd\n",
    "\n",
    "import nltk\n",
    "from nltk.tokenize import sent_tokenize\n",
    "nltk.download('wordnet')\n",
    "\n",
    "import spacy\n",
    "nlp = spacy.load('en_core_web_md')\n",
    "\n",
    "pd.options.display.max_colwidth = None\n",
    "\n",
    "print('DONE!')"
   ],
   "metadata": {
    "collapsed": false,
    "pycharm": {
     "name": "#%%\n"
    }
   }
  },
  {
   "cell_type": "markdown",
   "metadata": {
    "collapsed": false
   },
   "source": [
    "## Loading data (with annotation)"
   ]
  },
  {
   "cell_type": "code",
   "execution_count": 31,
   "metadata": {
    "collapsed": false,
    "pycharm": {
     "name": "#%%\n"
    }
   },
   "outputs": [
    {
     "data": {
      "text/plain": "                                                    Sentence_content  \\\n0     Once upon a time, there was a beautiful girl named Cinderella.   \n1          She lived with her wicked stepmother and two stepsisters.   \n2                                They treated Cinderella very badly.   \n3  One day, they were invited for a grand ball in the king’s palace.   \n4                  But Cinderella’s stepmother would not let her go.   \n\n    Annotate_Action           Annotate_Agent Annotate_Direct_Obj  \\\n0        was, named                      NaN          Cinderella   \n1             lived                      She                 NaN   \n2           treated                     They          Cinderella   \n3      were invited                     they                 NaN   \n4  would not let go  Cinderella’s stepmother                 her   \n\n  Annotate_Indirect_Obj                               Annotate_Location  \\\n0                   NaN                                             NaN   \n1                   NaN  with her wicked stepmother and two stepsisters   \n2                   NaN                                             NaN   \n3                   NaN                            in the king’s palace   \n4                   NaN                                             NaN   \n\n      Annotate_Time  \n0  Once upon a time  \n1               NaN  \n2               NaN  \n3           One day  \n4               NaN  ",
      "text/html": "<div>\n<style scoped>\n    .dataframe tbody tr th:only-of-type {\n        vertical-align: middle;\n    }\n\n    .dataframe tbody tr th {\n        vertical-align: top;\n    }\n\n    .dataframe thead th {\n        text-align: right;\n    }\n</style>\n<table border=\"1\" class=\"dataframe\">\n  <thead>\n    <tr style=\"text-align: right;\">\n      <th></th>\n      <th>Sentence_content</th>\n      <th>Annotate_Action</th>\n      <th>Annotate_Agent</th>\n      <th>Annotate_Direct_Obj</th>\n      <th>Annotate_Indirect_Obj</th>\n      <th>Annotate_Location</th>\n      <th>Annotate_Time</th>\n    </tr>\n  </thead>\n  <tbody>\n    <tr>\n      <th>0</th>\n      <td>Once upon a time, there was a beautiful girl named Cinderella.</td>\n      <td>was, named</td>\n      <td>NaN</td>\n      <td>Cinderella</td>\n      <td>NaN</td>\n      <td>NaN</td>\n      <td>Once upon a time</td>\n    </tr>\n    <tr>\n      <th>1</th>\n      <td>She lived with her wicked stepmother and two stepsisters.</td>\n      <td>lived</td>\n      <td>She</td>\n      <td>NaN</td>\n      <td>NaN</td>\n      <td>with her wicked stepmother and two stepsisters</td>\n      <td>NaN</td>\n    </tr>\n    <tr>\n      <th>2</th>\n      <td>They treated Cinderella very badly.</td>\n      <td>treated</td>\n      <td>They</td>\n      <td>Cinderella</td>\n      <td>NaN</td>\n      <td>NaN</td>\n      <td>NaN</td>\n    </tr>\n    <tr>\n      <th>3</th>\n      <td>One day, they were invited for a grand ball in the king’s palace.</td>\n      <td>were invited</td>\n      <td>they</td>\n      <td>NaN</td>\n      <td>NaN</td>\n      <td>in the king’s palace</td>\n      <td>One day</td>\n    </tr>\n    <tr>\n      <th>4</th>\n      <td>But Cinderella’s stepmother would not let her go.</td>\n      <td>would not let go</td>\n      <td>Cinderella’s stepmother</td>\n      <td>her</td>\n      <td>NaN</td>\n      <td>NaN</td>\n      <td>NaN</td>\n    </tr>\n  </tbody>\n</table>\n</div>"
     },
     "execution_count": 31,
     "metadata": {},
     "output_type": "execute_result"
    }
   ],
   "source": [
    "annotate_1 = pd.read_csv(\"fairy_tales/Cinderella_annotate.csv\", sep=';', encoding='utf-8')\n",
    "annotate_1 = annotate_1.drop(['Unnamed: 0'], axis=1)\n",
    "\n",
    "annotate_2 = pd.read_csv(\"fairy_tales/Pied_Piper_annotate.csv\", sep=';', encoding='utf-8')\n",
    "annotate_2 = annotate_2.drop(['Unnamed: 0', ], axis=1)\n",
    "\n",
    "annotate_3 = pd.read_csv(\"fairy_tales/Snow_White_annotate.csv\", sep=';', encoding='utf-8')\n",
    "annotate_3 = annotate_3.drop(['Unnamed: 0'], axis=1)\n",
    "\n",
    "annotate_4 = pd.read_csv(\"fairy_tales/The_Little_Mermaid_annotate.csv\", sep=';', encoding='utf-8')\n",
    "annotate_4 = annotate_4.drop(['Unnamed: 0'], axis=1)\n",
    "\n",
    "annotate_5 = pd.read_csv(\"fairy_tales/The_Ugly_Duckling_annotate.csv\", sep=';', encoding='utf-8')\n",
    "annotate_5 = annotate_5.drop(['Unnamed: 0'], axis=1)\n",
    "\n",
    "frames = [annotate_2, annotate_3, annotate_4, annotate_5]\n",
    "\n",
    "annotate = annotate_1.append(frames).reset_index(drop=True)\n",
    "annotate = annotate.drop([\"Sentence_ID\", \"Annotate_Purpose\", \"Annotate_Cause\", \"Annotate_Complement\"], axis=1)\n",
    "annotate.head()"
   ]
  },
  {
   "cell_type": "markdown",
   "metadata": {
    "collapsed": false
   },
   "source": [
    "## Splitting complex sentences into simple sub-sentences (Spacy)"
   ]
  },
  {
   "cell_type": "code",
   "execution_count": 32,
   "metadata": {
    "collapsed": false,
    "pycharm": {
     "name": "#%%\n"
    }
   },
   "outputs": [],
   "source": [
    "def get_sub_sentences(data):\n",
    "\n",
    "    data['sub_sentences'] = None\n",
    "    previous_token = ''\n",
    "    sub_sentences = []\n",
    "    sub_sentence = ''\n",
    "\n",
    "    for row in range(data.shape[0]):\n",
    "\n",
    "        doc_sent = nlp(data.Sentence_content[row])\n",
    "        #doc_sent = nlp(data.sent_token[row])\n",
    "        for token in doc_sent:\n",
    "\n",
    "            # token is a part of the next sentence\n",
    "            # CCONJ is 'and', 'but'\n",
    "            if token.pos_ == 'CCONJ' and previous_token:\n",
    "\n",
    "                # exammple: ..., and ...\"\n",
    "                if previous_token.pos_ == 'PUNCT':\n",
    "                    sub_sentences.append(sub_sentence)\n",
    "                    sub_sentence = ''\n",
    "                    sub_sentence = sub_sentence + token.text + ' '\n",
    "\n",
    "            # SCONJ is 'because', 'that', 'so'\n",
    "            elif token.pos_ == 'SCONJ' and previous_token:\n",
    "\n",
    "                # token is a part of the current sentence\n",
    "                if previous_token.pos_ == 'SCONJ':\n",
    "                    sub_sentence = sub_sentence + token.text + ' '\n",
    "\n",
    "                # token is a part of the current sentence\n",
    "                if previous_token.pos_ == 'CCONJ':\n",
    "                    sub_sentence = sub_sentence + token.text + ' '\n",
    "\n",
    "                # token is a part of the current sentence (Row 3: \"ones upon a time...\" case)\n",
    "                if len(sub_sentence.split())==1:\n",
    "                    sub_sentence = sub_sentence + token.text + ' '\n",
    "\n",
    "                # token is a part of the new sentence\n",
    "                else:\n",
    "                    sub_sentences.append(sub_sentence)\n",
    "                    sub_sentence = ''\n",
    "                    sub_sentence = sub_sentence + token.text + ' '\n",
    "\n",
    "            # token is a part of the current sentence\n",
    "            elif token.text == ';':\n",
    "                sub_sentence = sub_sentence + '.'\n",
    "                sub_sentences.append(sub_sentence)\n",
    "                sub_sentence = ''\n",
    "\n",
    "            else:\n",
    "                sub_sentence = sub_sentence + token.text + ' '\n",
    "\n",
    "            previous_token = token\n",
    "\n",
    "        sub_sentences.append(sub_sentence)\n",
    "        data.loc[row, 'sub_sentences'] = str(sub_sentences)\n",
    "        previous_token = ''\n",
    "        sub_sentences = []\n",
    "        sub_sentence = ''\n",
    "\n",
    "\n",
    "    data['sub_sentences'] = data['sub_sentences'].apply(ast.literal_eval)\n",
    "\n",
    "    data['count_sub'] = None\n",
    "    for row in range(data.shape[0]):\n",
    "        data.loc[row, 'count_sub'] = len(data.sub_sentences[row])\n",
    "\n",
    "    print('DONE!')\n",
    "\n",
    "    return data"
   ]
  },
  {
   "cell_type": "markdown",
   "metadata": {
    "collapsed": false
   },
   "source": [
    "#### Run sub-sentences algorithm on annotate dataframe"
   ]
  },
  {
   "cell_type": "code",
   "execution_count": 33,
   "metadata": {
    "collapsed": false,
    "pycharm": {
     "name": "#%%\n"
    }
   },
   "outputs": [
    {
     "name": "stdout",
     "output_type": "stream",
     "text": [
      "DONE!\n",
      "Example:\n"
     ]
    },
    {
     "data": {
      "text/plain": "                                                                                               Sentence_content  \\\n185  A little duckling was very sad because he thought he was the ugliest amongst all his brothers and sisters.   \n186                                                                               They would not play with him.   \n187                                                                         They teased the poor ugly duckling.   \n\n                                                                                                    sub_sentences  \\\n185  [A little duckling was very sad , because he thought he was the ugliest amongst all his brothers sisters . ]   \n186                                                                             [They would not play with him . ]   \n187                                                                       [They teased the poor ugly duckling . ]   \n\n    count_sub  \n185         2  \n186         1  \n187         1  ",
      "text/html": "<div>\n<style scoped>\n    .dataframe tbody tr th:only-of-type {\n        vertical-align: middle;\n    }\n\n    .dataframe tbody tr th {\n        vertical-align: top;\n    }\n\n    .dataframe thead th {\n        text-align: right;\n    }\n</style>\n<table border=\"1\" class=\"dataframe\">\n  <thead>\n    <tr style=\"text-align: right;\">\n      <th></th>\n      <th>Sentence_content</th>\n      <th>sub_sentences</th>\n      <th>count_sub</th>\n    </tr>\n  </thead>\n  <tbody>\n    <tr>\n      <th>185</th>\n      <td>A little duckling was very sad because he thought he was the ugliest amongst all his brothers and sisters.</td>\n      <td>[A little duckling was very sad , because he thought he was the ugliest amongst all his brothers sisters . ]</td>\n      <td>2</td>\n    </tr>\n    <tr>\n      <th>186</th>\n      <td>They would not play with him.</td>\n      <td>[They would not play with him . ]</td>\n      <td>1</td>\n    </tr>\n    <tr>\n      <th>187</th>\n      <td>They teased the poor ugly duckling.</td>\n      <td>[They teased the poor ugly duckling . ]</td>\n      <td>1</td>\n    </tr>\n  </tbody>\n</table>\n</div>"
     },
     "execution_count": 33,
     "metadata": {},
     "output_type": "execute_result"
    }
   ],
   "source": [
    "data_sub = annotate.copy()\n",
    "data_sub = get_sub_sentences(data_sub)\n",
    "print(\"Example:\")\n",
    "data_sub.iloc[185:188, [0,7,8]]"
   ]
  },
  {
   "cell_type": "markdown",
   "metadata": {
    "collapsed": false
   },
   "source": [
    "# 5 WH questions\n",
    "\n",
    "## Q1, Q2, and Q3: agent (who?), event (what did agent do?), and patient (to whom?)."
   ]
  },
  {
   "cell_type": "code",
   "execution_count": 12,
   "metadata": {
    "collapsed": false,
    "pycharm": {
     "name": "#%%\n"
    }
   },
   "outputs": [],
   "source": [
    "# This function is looking for agents, actions, and patients on the level of sub-sentences.\n",
    "def get_agents_actions_patients(data):\n",
    "    agent_roles = ['nsubj', 'nsubjpass']\n",
    "    verb_roles = ['ROOT', 'conj', 'ccomp', 'advcl', 'relcl']\n",
    "    patient_roles = ['dobj', 'attr']\n",
    "\n",
    "    annex_agent_roles = ['conj', 'compound', 'advcl']\n",
    "\n",
    "    data.insert(loc=2, column='actions_in_sent', value=None)\n",
    "    data.insert(loc=4, column='agents_in_sent', value=None)\n",
    "    data.insert(loc=7, column='patients_in_sent', value=None)\n",
    "\n",
    "    agents_in_sent = []\n",
    "    actions_in_sent = []\n",
    "    patients_in_sent = []\n",
    "    event = ''\n",
    "    agent = ''\n",
    "    patient = None\n",
    "\n",
    "    final_agents = []\n",
    "    final_actions = []\n",
    "    final_patients = []\n",
    "\n",
    "    for row in range(data.shape[0]):\n",
    "        for subsent in data['sub_sentences'][row]:\n",
    "            doc = nlp(subsent)\n",
    "            for word in doc:\n",
    "\n",
    "                # -- this is our main AGENT (word) and main EVENT (word.head) --\n",
    "                if (word.dep_ in agent_roles) and (word.head.dep_ in verb_roles):\n",
    "\n",
    "                    agent = word.text\n",
    "                    event = word.head.text\n",
    "\n",
    "                    agents_in_sent.append(agent)\n",
    "                    actions_in_sent.append(event)\n",
    "\n",
    "                    # -- are there a PATIENT for the found AGENT and EVENT pair? --\n",
    "                    for echild in word.head.children:\n",
    "                        # -- if there's a patient and if it's the 1st one - add it\n",
    "                        # -- (it goes in set with main agent and event).\n",
    "                        if echild.dep_ in patient_roles:\n",
    "                            patient = echild.text\n",
    "                            patients_in_sent.append(patient)\n",
    "\n",
    "                    # -- if no patient was found, than add the None. If it was found, make it None\n",
    "                    if patient:\n",
    "                        patient = None\n",
    "                    else:\n",
    "                        patients_in_sent.append(patient)\n",
    "\n",
    "                    # -- different agent-children with the same parent event --\n",
    "                    for achild in word.children:\n",
    "                        if achild.dep_ in annex_agent_roles:\n",
    "                            agent = achild.text\n",
    "                            agents_in_sent.append(agent)\n",
    "                            actions_in_sent.append(event)\n",
    "\n",
    "                    # -- different event-children with the same parent agent --\n",
    "                    agent = word.text\n",
    "                    for echild in word.head.children:\n",
    "                        if echild.dep_ in annex_agent_roles:\n",
    "                            event = echild.text\n",
    "                            agents_in_sent.append(agent)\n",
    "                            actions_in_sent.append(event)\n",
    "\n",
    "                    # -- combinations agent-children with event-children --\n",
    "                    for achild in word.children:\n",
    "                        if achild.dep_ in annex_agent_roles:\n",
    "                            agent = achild.text\n",
    "                            for echild in word.head.children:\n",
    "                                if echild.dep_ in annex_agent_roles:\n",
    "                                    event = echild.text\n",
    "                                    agents_in_sent.append(agent)\n",
    "                                    actions_in_sent.append(event)\n",
    "\n",
    "\n",
    "            final_agents.append(agents_in_sent)\n",
    "            final_actions.append(actions_in_sent)\n",
    "            final_patients.append(patients_in_sent)\n",
    "\n",
    "            agents_in_sent = []\n",
    "            actions_in_sent = []\n",
    "            patients_in_sent = []\n",
    "\n",
    "        data['agents_in_sent'][row] = final_agents\n",
    "        data['actions_in_sent'][row] = final_actions\n",
    "        data['patients_in_sent'][row] = final_patients\n",
    "\n",
    "        final_agents = []\n",
    "        final_actions = []\n",
    "        final_patients = []\n",
    "\n",
    "    print('DONE!')\n",
    "\n",
    "    return data"
   ]
  },
  {
   "cell_type": "code",
   "execution_count": 34,
   "metadata": {
    "collapsed": false,
    "pycharm": {
     "name": "#%%\n"
    }
   },
   "outputs": [
    {
     "name": "stdout",
     "output_type": "stream",
     "text": [
      "DONE!\n",
      "Example:\n"
     ]
    },
    {
     "data": {
      "text/plain": "                                                                                               Sentence_content  \\\n185  A little duckling was very sad because he thought he was the ugliest amongst all his brothers and sisters.   \n186                                                                               They would not play with him.   \n187                                                                         They teased the poor ugly duckling.   \n\n             actions_in_sent          agents_in_sent  \\\n185  [[was], [thought, was]]  [[duckling], [he, he]]   \n186                 [[play]]                [[They]]   \n187               [[teased]]                [[They]]   \n\n              patients_in_sent  \\\n185  [[None], [None, ugliest]]   \n186                   [[None]]   \n187               [[duckling]]   \n\n                                                                                                    sub_sentences  \\\n185  [A little duckling was very sad , because he thought he was the ugliest amongst all his brothers sisters . ]   \n186                                                                             [They would not play with him . ]   \n187                                                                       [They teased the poor ugly duckling . ]   \n\n    count_sub  \n185         2  \n186         1  \n187         1  ",
      "text/html": "<div>\n<style scoped>\n    .dataframe tbody tr th:only-of-type {\n        vertical-align: middle;\n    }\n\n    .dataframe tbody tr th {\n        vertical-align: top;\n    }\n\n    .dataframe thead th {\n        text-align: right;\n    }\n</style>\n<table border=\"1\" class=\"dataframe\">\n  <thead>\n    <tr style=\"text-align: right;\">\n      <th></th>\n      <th>Sentence_content</th>\n      <th>actions_in_sent</th>\n      <th>agents_in_sent</th>\n      <th>patients_in_sent</th>\n      <th>sub_sentences</th>\n      <th>count_sub</th>\n    </tr>\n  </thead>\n  <tbody>\n    <tr>\n      <th>185</th>\n      <td>A little duckling was very sad because he thought he was the ugliest amongst all his brothers and sisters.</td>\n      <td>[[was], [thought, was]]</td>\n      <td>[[duckling], [he, he]]</td>\n      <td>[[None], [None, ugliest]]</td>\n      <td>[A little duckling was very sad , because he thought he was the ugliest amongst all his brothers sisters . ]</td>\n      <td>2</td>\n    </tr>\n    <tr>\n      <th>186</th>\n      <td>They would not play with him.</td>\n      <td>[[play]]</td>\n      <td>[[They]]</td>\n      <td>[[None]]</td>\n      <td>[They would not play with him . ]</td>\n      <td>1</td>\n    </tr>\n    <tr>\n      <th>187</th>\n      <td>They teased the poor ugly duckling.</td>\n      <td>[[teased]]</td>\n      <td>[[They]]</td>\n      <td>[[duckling]]</td>\n      <td>[They teased the poor ugly duckling . ]</td>\n      <td>1</td>\n    </tr>\n  </tbody>\n</table>\n</div>"
     },
     "execution_count": 34,
     "metadata": {},
     "output_type": "execute_result"
    }
   ],
   "source": [
    "data_1 = data_sub.copy()\n",
    "data_1 = get_agents_actions_patients(data_1)\n",
    "print(\"Example:\")\n",
    "data_1.iloc[185:188, [0,2,4,7,10,11]]"
   ]
  },
  {
   "cell_type": "markdown",
   "metadata": {
    "collapsed": false
   },
   "source": [
    "## Q4: time (When?) (Special Version for this Fairy tale!)\n",
    "### 1. Extracting clauses with \"when\" conjunction"
   ]
  },
  {
   "cell_type": "code",
   "execution_count": 35,
   "metadata": {
    "collapsed": false,
    "pycharm": {
     "name": "#%%\n"
    }
   },
   "outputs": [],
   "source": [
    "# collects words from whole WHEN clauses to when_list\n",
    "\n",
    "def extract_all_children_when(doc, head):\n",
    "    if head.children:\n",
    "        for child in head.children:\n",
    "            when_list.append(child.text)\n",
    "            extract_all_children_when(doc, child)"
   ]
  },
  {
   "cell_type": "code",
   "execution_count": 36,
   "metadata": {
    "collapsed": false,
    "pycharm": {
     "name": "#%%\n"
    }
   },
   "outputs": [],
   "source": [
    "def get_when_clauses(data):\n",
    "\n",
    "    global when_list\n",
    "    when_list = []\n",
    "    when_str = ''\n",
    "\n",
    "    data['time_when'] = None\n",
    "\n",
    "    # looking for clauses which start with when in each row\n",
    "    for row in range(data.shape[0]):\n",
    "        doc = nlp(data.iloc[row,0])\n",
    "\n",
    "        for word in doc:\n",
    "\n",
    "            # check if word belongs to WHEN collocation (works if when_list is not empty)\n",
    "            if word.text in when_list:\n",
    "                when_str = when_str + ' ' + str(word.text)\n",
    "            else:\n",
    "                # if doesn't belong, then collocation is over, clean it\n",
    "                when_list = []\n",
    "\n",
    "            # if word = 'when' then run the function that collects words from whole WHEN collocation\n",
    "            if word.text == 'when':\n",
    "                when_list.append(word.text)\n",
    "                head = word.head\n",
    "                when_list.append(head.text)\n",
    "                extract_all_children_when(doc, head)\n",
    "                when_str = 'when'\n",
    "\n",
    "        data['time_when'][row] = when_str\n",
    "        when_str = ''\n",
    "    print('DONE!')\n",
    "\n",
    "    return data"
   ]
  },
  {
   "cell_type": "code",
   "execution_count": 37,
   "metadata": {
    "collapsed": false,
    "pycharm": {
     "name": "#%%\n"
    }
   },
   "outputs": [
    {
     "name": "stdout",
     "output_type": "stream",
     "text": [
      "DONE!\n",
      "Example:\n"
     ]
    },
    {
     "data": {
      "text/plain": "                                                            Sentence_content  \\\n25  before leaving, the fairy godmother said she should be home by midnight.   \n26   when cinderella entered the palace, everybody was struck by her beauty.   \n27                                           nobody knew who she really was.   \n28                                         the handsome prince also saw her.   \n29                                          he fell in love with cinderella.   \n\n    Annotate_Action            Annotate_Agent Annotate_Direct_Obj  \\\n25  said, should be  the fairy godmother, she                 NaN   \n26       was struck                 everybody                 NaN   \n27        knew, was               Nobody, she                 NaN   \n28              saw       The handsome prince                 her   \n29     fell in love                        He          Cinderella   \n\n   Annotate_Indirect_Obj Annotate_Location  \\\n25                   NaN              home   \n26                   NaN               NaN   \n27                   NaN               NaN   \n28                   NaN               NaN   \n29                   NaN               NaN   \n\n                         Annotate_Time                           time_when  \n25         before leaving, by midnight                                      \n26  when cinderella entered the palace  when cinderella entered the palace  \n27                                 NaN                                      \n28                                 NaN                                      \n29                                 NaN                                      ",
      "text/html": "<div>\n<style scoped>\n    .dataframe tbody tr th:only-of-type {\n        vertical-align: middle;\n    }\n\n    .dataframe tbody tr th {\n        vertical-align: top;\n    }\n\n    .dataframe thead th {\n        text-align: right;\n    }\n</style>\n<table border=\"1\" class=\"dataframe\">\n  <thead>\n    <tr style=\"text-align: right;\">\n      <th></th>\n      <th>Sentence_content</th>\n      <th>Annotate_Action</th>\n      <th>Annotate_Agent</th>\n      <th>Annotate_Direct_Obj</th>\n      <th>Annotate_Indirect_Obj</th>\n      <th>Annotate_Location</th>\n      <th>Annotate_Time</th>\n      <th>time_when</th>\n    </tr>\n  </thead>\n  <tbody>\n    <tr>\n      <th>25</th>\n      <td>before leaving, the fairy godmother said she should be home by midnight.</td>\n      <td>said, should be</td>\n      <td>the fairy godmother, she</td>\n      <td>NaN</td>\n      <td>NaN</td>\n      <td>home</td>\n      <td>before leaving, by midnight</td>\n      <td></td>\n    </tr>\n    <tr>\n      <th>26</th>\n      <td>when cinderella entered the palace, everybody was struck by her beauty.</td>\n      <td>was struck</td>\n      <td>everybody</td>\n      <td>NaN</td>\n      <td>NaN</td>\n      <td>NaN</td>\n      <td>when cinderella entered the palace</td>\n      <td>when cinderella entered the palace</td>\n    </tr>\n    <tr>\n      <th>27</th>\n      <td>nobody knew who she really was.</td>\n      <td>knew, was</td>\n      <td>Nobody, she</td>\n      <td>NaN</td>\n      <td>NaN</td>\n      <td>NaN</td>\n      <td>NaN</td>\n      <td></td>\n    </tr>\n    <tr>\n      <th>28</th>\n      <td>the handsome prince also saw her.</td>\n      <td>saw</td>\n      <td>The handsome prince</td>\n      <td>her</td>\n      <td>NaN</td>\n      <td>NaN</td>\n      <td>NaN</td>\n      <td></td>\n    </tr>\n    <tr>\n      <th>29</th>\n      <td>he fell in love with cinderella.</td>\n      <td>fell in love</td>\n      <td>He</td>\n      <td>Cinderella</td>\n      <td>NaN</td>\n      <td>NaN</td>\n      <td>NaN</td>\n      <td></td>\n    </tr>\n  </tbody>\n</table>\n</div>"
     },
     "execution_count": 37,
     "metadata": {},
     "output_type": "execute_result"
    }
   ],
   "source": [
    "data_2 = annotate.copy()\n",
    "data_2[\"Sentence_content\"] = data_2[\"Sentence_content\"].str.lower()\n",
    "data_2[\"Annotate_Time\"] = data_2[\"Annotate_Time\"].str.lower()\n",
    "data_2 = get_when_clauses(data_2)\n",
    "print(\"Example:\")\n",
    "data_2.iloc[25:30, :]\n"
   ]
  },
  {
   "cell_type": "markdown",
   "metadata": {
    "collapsed": false
   },
   "source": [
    "## Q5: location (Where?)\n",
    "### 1. Extracting clauses with \"where\" conjunction"
   ]
  },
  {
   "cell_type": "code",
   "execution_count": 38,
   "metadata": {
    "collapsed": false,
    "pycharm": {
     "name": "#%%\n"
    }
   },
   "outputs": [],
   "source": [
    "# collect words from whole WHERE clauses to where_list\n",
    "def extract_all_children_where(doc, head):\n",
    "    if head.children:\n",
    "        for child in head.children:\n",
    "            where_list.append(child.text)\n",
    "            extract_all_children_where(doc, child)"
   ]
  },
  {
   "cell_type": "code",
   "execution_count": 39,
   "metadata": {
    "collapsed": false,
    "pycharm": {
     "name": "#%%\n"
    }
   },
   "outputs": [],
   "source": [
    "def get_where_clauses(data):\n",
    "\n",
    "    global where_list\n",
    "    where_list = []\n",
    "    where_str = ''\n",
    "\n",
    "    data['location_where'] = None\n",
    "\n",
    "    # find collocations which start with WHERE word in each row\n",
    "    for row in range(data.shape[0]):\n",
    "        doc = nlp(data.iloc[row,0])\n",
    "\n",
    "        for word in doc:\n",
    "\n",
    "            # check if word belongs to WHERE collocation (works if where_list is not empty)\n",
    "            if word.text in where_list:\n",
    "                where_str = where_str + ' ' + str(word.text)\n",
    "            else:\n",
    "                # if doesn't belong, then collocation is over, clean it\n",
    "                where_list = []\n",
    "\n",
    "            # if word = 'where' then run the function that collects words from whole WHERE collocation\n",
    "            if word.text == 'where':\n",
    "                where_list.append(word.text)\n",
    "                head = word.head\n",
    "                where_list.append(head.text)\n",
    "                extract_all_children_where(doc, head)\n",
    "                where_str = 'where'\n",
    "\n",
    "        data['location_where'][row] = where_str\n",
    "        where_str = ''\n",
    "\n",
    "    print('DONE!')\n",
    "\n",
    "    return data"
   ]
  },
  {
   "cell_type": "code",
   "execution_count": 40,
   "metadata": {
    "collapsed": false,
    "pycharm": {
     "name": "#%%\n"
    }
   },
   "outputs": [
    {
     "name": "stdout",
     "output_type": "stream",
     "text": [
      "DONE!\n",
      "Example:\n"
     ]
    },
    {
     "data": {
      "text/plain": "                                                                                                              Sentence_content  \\\n97                                                                                she asked the mirror where snow white lived.   \n98  since then, the queen's heart was full of hatred for the young lady that she swore to get rid of her, as soon as possible.   \n\n            location_where  \n97  where snow white lived  \n98                          ",
      "text/html": "<div>\n<style scoped>\n    .dataframe tbody tr th:only-of-type {\n        vertical-align: middle;\n    }\n\n    .dataframe tbody tr th {\n        vertical-align: top;\n    }\n\n    .dataframe thead th {\n        text-align: right;\n    }\n</style>\n<table border=\"1\" class=\"dataframe\">\n  <thead>\n    <tr style=\"text-align: right;\">\n      <th></th>\n      <th>Sentence_content</th>\n      <th>location_where</th>\n    </tr>\n  </thead>\n  <tbody>\n    <tr>\n      <th>97</th>\n      <td>she asked the mirror where snow white lived.</td>\n      <td>where snow white lived</td>\n    </tr>\n    <tr>\n      <th>98</th>\n      <td>since then, the queen's heart was full of hatred for the young lady that she swore to get rid of her, as soon as possible.</td>\n      <td></td>\n    </tr>\n  </tbody>\n</table>\n</div>"
     },
     "execution_count": 40,
     "metadata": {},
     "output_type": "execute_result"
    }
   ],
   "source": [
    "data_3 = annotate.copy()\n",
    "data_3[\"Sentence_content\"] = data_3[\"Sentence_content\"].str.lower()\n",
    "data_3[\"Annotate_Location\"] = data_3[\"Annotate_Location\"].str.lower()\n",
    "data_3 = get_where_clauses(data_3)\n",
    "print(\"Example:\")\n",
    "data_3.iloc[97:99, [0, 7]]"
   ]
  },
  {
   "cell_type": "markdown",
   "metadata": {
    "collapsed": false
   },
   "source": [
    "## [Function] Evaluation of the results (for 'agents', 'action', and 'patients')"
   ]
  },
  {
   "cell_type": "code",
   "execution_count": 41,
   "metadata": {
    "collapsed": false,
    "pycharm": {
     "name": "#%%\n"
    }
   },
   "outputs": [],
   "source": [
    "def evaluation(df, metric):\n",
    "\n",
    "    # choose metric, create separate evaluation dataframe for this metric, rename columns\n",
    "    if metric == 'agents':\n",
    "        evaluation_df = df.loc[:, ['Annotate_Agent', 'agents_in_sent']]\n",
    "        evaluation_df = evaluation_df.rename(columns={\"Annotate_Agent\": \"annotate\", \"agents_in_sent\": \"result\"})\n",
    "    elif metric == 'actions':\n",
    "        evaluation_df = df.loc[:, ['Annotate_Action', 'actions_in_sent']]\n",
    "        evaluation_df = evaluation_df.rename(columns={\"Annotate_Action\": \"annotate\", \"actions_in_sent\": \"result\"})\n",
    "    elif metric == 'patients':\n",
    "        evaluation_df = df.loc[:, ['Annotate_Direct_Obj', 'patients_in_sent']]\n",
    "        evaluation_df = evaluation_df.rename(columns={\"Annotate_Direct_Obj\": \"annotate\", \"patients_in_sent\": \"result\"})\n",
    "\n",
    "    #  convert annotate column from string to list\n",
    "    evaluation_df['annotate'] = evaluation_df.annotate.str.split(\", \")\n",
    "\n",
    "    #  convert result column from nested list to simple list\n",
    "    for i in range(evaluation_df.shape[0]):\n",
    "        evaluation_df['result'][i] = [item for sublist in evaluation_df['result'][i] for item in sublist]\n",
    "        evaluation_df['result'][i] = list(dict.fromkeys(evaluation_df['result'][i]))\n",
    "\n",
    "    #  convert non-list elements to list\n",
    "    for i in range(evaluation_df.shape[0]):\n",
    "        if type(evaluation_df['result'][i]) != list:\n",
    "            evaluation_df['result'][i] = []\n",
    "        if type(evaluation_df['annotate'][i]) != list:\n",
    "            evaluation_df['annotate'][i] = []\n",
    "        if None in evaluation_df['result'][i]:\n",
    "            evaluation_df['result'][i].remove(None)\n",
    "\n",
    "    evaluation_df['P'] = 0\n",
    "    evaluation_df['L'] = 0\n",
    "    evaluation_df['E'] = 0\n",
    "    evaluation_df['M'] = 0\n",
    "    evaluation_df['W'] = 0\n",
    "\n",
    "\n",
    "    for i in range(evaluation_df.shape[0]):\n",
    "        for r in evaluation_df['result'][i]:\n",
    "            if r in evaluation_df['annotate'][i]:\n",
    "                evaluation_df['P'][i] +=1\n",
    "            else:\n",
    "                if r in [word for line in evaluation_df['annotate'][i] for word in line.split()]:\n",
    "                    evaluation_df['L'][i] +=1\n",
    "                else:\n",
    "                    evaluation_df['W'][i] +=1\n",
    "            for a in evaluation_df['annotate'][i]:\n",
    "                if r != a and a in r.split():\n",
    "                    evaluation_df['E'][i] +=1\n",
    "\n",
    "        flag = False\n",
    "        for a in evaluation_df['annotate'][i]:\n",
    "            for sub in a.split():\n",
    "                if sub in evaluation_df['result'][i]:\n",
    "                    flag = True\n",
    "            if not flag:\n",
    "                evaluation_df['M'][i] +=1\n",
    "            flag = False\n",
    "\n",
    "    P_score = 0\n",
    "    L_score = 0\n",
    "    E_score = 0\n",
    "    M_score = 0\n",
    "    W_score = 0\n",
    "\n",
    "    for i in range(evaluation_df.shape[0]):\n",
    "        P_score+= evaluation_df['P'][i]\n",
    "        L_score+= evaluation_df['L'][i]\n",
    "        E_score+= evaluation_df['E'][i]\n",
    "        M_score+= evaluation_df['M'][i]\n",
    "        W_score+= evaluation_df['W'][i]\n",
    "\n",
    "    print(\"P: \", P_score, \"; L_score: \", L_score, \"; E_score: \", E_score, \"; M_score: \",M_score, \"; W_score: \",W_score)\n",
    "    Precision = (P_score + L_score + E_score) / (P_score + L_score + E_score + W_score)\n",
    "    Recall = (P_score + L_score + E_score) / (P_score + L_score + E_score + M_score)\n",
    "    F1_score = 2 * (Precision * Recall) / (Precision + Recall)\n",
    "    print('Precision: ', round(Precision, 4), '\\n', 'Recall: ', round(Recall, 4), '\\n', 'F-score: ', round(F1_score, 4), '\\n')"
   ]
  },
  {
   "cell_type": "markdown",
   "metadata": {
    "collapsed": false
   },
   "source": [
    "#### [Results] Evaluation for agents"
   ]
  },
  {
   "cell_type": "code",
   "execution_count": 42,
   "metadata": {
    "collapsed": false,
    "pycharm": {
     "name": "#%%\n"
    }
   },
   "outputs": [
    {
     "name": "stdout",
     "output_type": "stream",
     "text": [
      "P:  123 ; L_score:  131 ; E_score:  0 ; M_score:  17 ; W_score:  61\n",
      "Precision:  0.8063 \n",
      " Recall:  0.9373 \n",
      " F-score:  0.8669 \n",
      "\n"
     ]
    },
    {
     "name": "stderr",
     "output_type": "stream",
     "text": [
      "<ipython-input-41-6f0fecbb1f93>:41: SettingWithCopyWarning: \n",
      "A value is trying to be set on a copy of a slice from a DataFrame\n",
      "\n",
      "See the caveats in the documentation: https://pandas.pydata.org/pandas-docs/stable/user_guide/indexing.html#returning-a-view-versus-a-copy\n",
      "  evaluation_df['P'][i] +=1\n",
      "<ipython-input-41-6f0fecbb1f93>:44: SettingWithCopyWarning: \n",
      "A value is trying to be set on a copy of a slice from a DataFrame\n",
      "\n",
      "See the caveats in the documentation: https://pandas.pydata.org/pandas-docs/stable/user_guide/indexing.html#returning-a-view-versus-a-copy\n",
      "  evaluation_df['L'][i] +=1\n",
      "<ipython-input-41-6f0fecbb1f93>:46: SettingWithCopyWarning: \n",
      "A value is trying to be set on a copy of a slice from a DataFrame\n",
      "\n",
      "See the caveats in the documentation: https://pandas.pydata.org/pandas-docs/stable/user_guide/indexing.html#returning-a-view-versus-a-copy\n",
      "  evaluation_df['W'][i] +=1\n",
      "<ipython-input-41-6f0fecbb1f93>:57: SettingWithCopyWarning: \n",
      "A value is trying to be set on a copy of a slice from a DataFrame\n",
      "\n",
      "See the caveats in the documentation: https://pandas.pydata.org/pandas-docs/stable/user_guide/indexing.html#returning-a-view-versus-a-copy\n",
      "  evaluation_df['M'][i] +=1\n"
     ]
    }
   ],
   "source": [
    "evaluation(data_1, 'agents')"
   ]
  },
  {
   "cell_type": "markdown",
   "source": [
    "#### [Results] Evaluation for actions"
   ],
   "metadata": {
    "collapsed": false
   }
  },
  {
   "cell_type": "code",
   "execution_count": 43,
   "outputs": [
    {
     "name": "stdout",
     "output_type": "stream",
     "text": [
      "P:  171 ; L_score:  81 ; E_score:  0 ; M_score:  28 ; W_score:  57\n",
      "Precision:  0.8155 \n",
      " Recall:  0.9 \n",
      " F-score:  0.8557 \n",
      "\n"
     ]
    },
    {
     "name": "stderr",
     "output_type": "stream",
     "text": [
      "<ipython-input-41-6f0fecbb1f93>:57: SettingWithCopyWarning: \n",
      "A value is trying to be set on a copy of a slice from a DataFrame\n",
      "\n",
      "See the caveats in the documentation: https://pandas.pydata.org/pandas-docs/stable/user_guide/indexing.html#returning-a-view-versus-a-copy\n",
      "  evaluation_df['M'][i] +=1\n",
      "<ipython-input-41-6f0fecbb1f93>:41: SettingWithCopyWarning: \n",
      "A value is trying to be set on a copy of a slice from a DataFrame\n",
      "\n",
      "See the caveats in the documentation: https://pandas.pydata.org/pandas-docs/stable/user_guide/indexing.html#returning-a-view-versus-a-copy\n",
      "  evaluation_df['P'][i] +=1\n",
      "<ipython-input-41-6f0fecbb1f93>:44: SettingWithCopyWarning: \n",
      "A value is trying to be set on a copy of a slice from a DataFrame\n",
      "\n",
      "See the caveats in the documentation: https://pandas.pydata.org/pandas-docs/stable/user_guide/indexing.html#returning-a-view-versus-a-copy\n",
      "  evaluation_df['L'][i] +=1\n",
      "<ipython-input-41-6f0fecbb1f93>:46: SettingWithCopyWarning: \n",
      "A value is trying to be set on a copy of a slice from a DataFrame\n",
      "\n",
      "See the caveats in the documentation: https://pandas.pydata.org/pandas-docs/stable/user_guide/indexing.html#returning-a-view-versus-a-copy\n",
      "  evaluation_df['W'][i] +=1\n"
     ]
    }
   ],
   "source": [
    "evaluation(data_1, 'actions')"
   ],
   "metadata": {
    "collapsed": false,
    "pycharm": {
     "name": "#%%\n"
    }
   }
  },
  {
   "cell_type": "markdown",
   "source": [
    "#### [Results] Evaluation for patients"
   ],
   "metadata": {
    "collapsed": false
   }
  },
  {
   "cell_type": "code",
   "execution_count": 44,
   "outputs": [
    {
     "name": "stdout",
     "output_type": "stream",
     "text": [
      "P:  14 ; L_score:  51 ; E_score:  0 ; M_score:  56 ; W_score:  30\n",
      "Precision:  0.6842 \n",
      " Recall:  0.5372 \n",
      " F-score:  0.6019 \n",
      "\n"
     ]
    },
    {
     "name": "stderr",
     "output_type": "stream",
     "text": [
      "<ipython-input-41-6f0fecbb1f93>:57: SettingWithCopyWarning: \n",
      "A value is trying to be set on a copy of a slice from a DataFrame\n",
      "\n",
      "See the caveats in the documentation: https://pandas.pydata.org/pandas-docs/stable/user_guide/indexing.html#returning-a-view-versus-a-copy\n",
      "  evaluation_df['M'][i] +=1\n",
      "<ipython-input-41-6f0fecbb1f93>:41: SettingWithCopyWarning: \n",
      "A value is trying to be set on a copy of a slice from a DataFrame\n",
      "\n",
      "See the caveats in the documentation: https://pandas.pydata.org/pandas-docs/stable/user_guide/indexing.html#returning-a-view-versus-a-copy\n",
      "  evaluation_df['P'][i] +=1\n",
      "<ipython-input-41-6f0fecbb1f93>:44: SettingWithCopyWarning: \n",
      "A value is trying to be set on a copy of a slice from a DataFrame\n",
      "\n",
      "See the caveats in the documentation: https://pandas.pydata.org/pandas-docs/stable/user_guide/indexing.html#returning-a-view-versus-a-copy\n",
      "  evaluation_df['L'][i] +=1\n",
      "<ipython-input-41-6f0fecbb1f93>:46: SettingWithCopyWarning: \n",
      "A value is trying to be set on a copy of a slice from a DataFrame\n",
      "\n",
      "See the caveats in the documentation: https://pandas.pydata.org/pandas-docs/stable/user_guide/indexing.html#returning-a-view-versus-a-copy\n",
      "  evaluation_df['W'][i] +=1\n"
     ]
    }
   ],
   "source": [
    "evaluation(data_1, 'patients')"
   ],
   "metadata": {
    "collapsed": false,
    "pycharm": {
     "name": "#%%\n"
    }
   }
  },
  {
   "cell_type": "markdown",
   "source": [
    "## [Function] Evaluation of the results (for 'time' and 'location')"
   ],
   "metadata": {
    "collapsed": false
   }
  },
  {
   "cell_type": "code",
   "execution_count": 45,
   "outputs": [],
   "source": [
    "def evaluation_tl(df, metric):\n",
    "\n",
    "    # choose metric, create separate evaluation dataframe for this metric, rename columns\n",
    "    if metric == 'time':\n",
    "        evaluation_df = df.loc[:, ['Annotate_Time', 'time_when']]\n",
    "        evaluation_df = evaluation_df.rename(columns={\"Annotate_Time\": \"annotate\", \"time_when\": \"result\"})\n",
    "    elif metric == 'location':\n",
    "        evaluation_df = df.loc[:, ['Annotate_Location', 'location_where']]\n",
    "        evaluation_df = evaluation_df.rename(columns={\"Annotate_Location\": \"annotate\", \"location_where\": \"result\"})\n",
    "\n",
    "    #  convert annotate column from string to list\n",
    "    evaluation_df['annotate'] = evaluation_df.annotate.str.split(\", \")\n",
    "\n",
    "    #  convert result column from nested list to simple list\n",
    "    for i in range(evaluation_df.shape[0]):\n",
    "        if  isinstance(evaluation_df['result'][i], (str)):\n",
    "            evaluation_df['result'][i] = list(evaluation_df['result'][i].split(', '))\n",
    "        else:\n",
    "            print(type(evaluation_df['result'][i]))\n",
    "    #  convert non-list elements to list\n",
    "    for i in range(evaluation_df.shape[0]):\n",
    "        if type(evaluation_df['result'][i]) != list:\n",
    "            evaluation_df['result'][i] = []\n",
    "        if type(evaluation_df['annotate'][i]) != list:\n",
    "            evaluation_df['annotate'][i] = []\n",
    "        if None in evaluation_df['result'][i]:\n",
    "            evaluation_df['result'][i].remove(None)\n",
    "\n",
    "    evaluation_df['P'] = 0\n",
    "    evaluation_df['L'] = 0\n",
    "    evaluation_df['E'] = 0\n",
    "    evaluation_df['M'] = 0\n",
    "    evaluation_df['W'] = 0\n",
    "\n",
    "\n",
    "    for i in range(evaluation_df.shape[0]):\n",
    "        for r in evaluation_df['result'][i]:\n",
    "            if r in evaluation_df['annotate'][i]:\n",
    "                evaluation_df['P'][i] +=1\n",
    "            else:\n",
    "                if r in [word for line in evaluation_df['annotate'][i] for word in line.split()]:\n",
    "                    evaluation_df['L'][i] +=1\n",
    "            for a in evaluation_df['annotate'][i]:\n",
    "                if r != a and a in r.split():\n",
    "                    evaluation_df['E'][i] +=1\n",
    "                if a not in r:\n",
    "                    evaluation_df['M'][i] +=1\n",
    "\n",
    "    P_score = 0\n",
    "    L_score = 0\n",
    "    E_score = 0\n",
    "    M_score = 0\n",
    "    W_score = 0\n",
    "\n",
    "    for i in range(evaluation_df.shape[0]):\n",
    "        P_score+= evaluation_df['P'][i]\n",
    "        L_score+= evaluation_df['L'][i]\n",
    "        E_score+= evaluation_df['E'][i]\n",
    "        M_score+= evaluation_df['M'][i]\n",
    "        W_score+= evaluation_df['W'][i]\n",
    "    print(\"P: \", P_score, \"; L_score: \", L_score, \"; E_score: \", E_score, \"; M_score: \",M_score, \"; W_score: \",W_score)\n",
    "    Precision = (P_score + L_score + E_score) / (P_score + L_score + E_score + W_score)\n",
    "    Recall = (P_score + L_score + E_score) / (P_score + L_score + E_score + M_score)\n",
    "    F1_score = 2 * (Precision * Recall) / (Precision + Recall)\n",
    "    print('Precision: ', round(Precision, 4), '\\n', 'Recall: ', round(Recall, 4), '\\n', 'F-score: ', round(F1_score, 4), '\\n')\n",
    "\n"
   ],
   "metadata": {
    "collapsed": false,
    "pycharm": {
     "name": "#%%\n"
    }
   }
  },
  {
   "cell_type": "markdown",
   "source": [
    "#### [Results] Evaluation for time"
   ],
   "metadata": {
    "collapsed": false
   }
  },
  {
   "cell_type": "code",
   "execution_count": 46,
   "outputs": [
    {
     "name": "stdout",
     "output_type": "stream",
     "text": [
      "P:  4 ; L_score:  0 ; E_score:  1 ; M_score:  50 ; W_score:  0\n",
      "Precision:  1.0 \n",
      " Recall:  0.0909 \n",
      " F-score:  0.1667 \n",
      "\n"
     ]
    },
    {
     "name": "stderr",
     "output_type": "stream",
     "text": [
      "<ipython-input-45-ed169b5e2dfc>:47: SettingWithCopyWarning: \n",
      "A value is trying to be set on a copy of a slice from a DataFrame\n",
      "\n",
      "See the caveats in the documentation: https://pandas.pydata.org/pandas-docs/stable/user_guide/indexing.html#returning-a-view-versus-a-copy\n",
      "  evaluation_df['M'][i] +=1\n",
      "<ipython-input-45-ed169b5e2dfc>:39: SettingWithCopyWarning: \n",
      "A value is trying to be set on a copy of a slice from a DataFrame\n",
      "\n",
      "See the caveats in the documentation: https://pandas.pydata.org/pandas-docs/stable/user_guide/indexing.html#returning-a-view-versus-a-copy\n",
      "  evaluation_df['P'][i] +=1\n",
      "<ipython-input-45-ed169b5e2dfc>:45: SettingWithCopyWarning: \n",
      "A value is trying to be set on a copy of a slice from a DataFrame\n",
      "\n",
      "See the caveats in the documentation: https://pandas.pydata.org/pandas-docs/stable/user_guide/indexing.html#returning-a-view-versus-a-copy\n",
      "  evaluation_df['E'][i] +=1\n"
     ]
    }
   ],
   "source": [
    "evaluation_tl(data_2, 'time')"
   ],
   "metadata": {
    "collapsed": false,
    "pycharm": {
     "name": "#%%\n"
    }
   }
  },
  {
   "cell_type": "markdown",
   "source": [
    "#### [Results] Evaluation for location"
   ],
   "metadata": {
    "collapsed": false
   }
  },
  {
   "cell_type": "code",
   "execution_count": 47,
   "outputs": [
    {
     "name": "stdout",
     "output_type": "stream",
     "text": [
      "P:  1 ; L_score:  0 ; E_score:  0 ; M_score:  58 ; W_score:  0\n",
      "Precision:  1.0 \n",
      " Recall:  0.0169 \n",
      " F-score:  0.0333 \n",
      "\n"
     ]
    },
    {
     "name": "stderr",
     "output_type": "stream",
     "text": [
      "<ipython-input-45-ed169b5e2dfc>:47: SettingWithCopyWarning: \n",
      "A value is trying to be set on a copy of a slice from a DataFrame\n",
      "\n",
      "See the caveats in the documentation: https://pandas.pydata.org/pandas-docs/stable/user_guide/indexing.html#returning-a-view-versus-a-copy\n",
      "  evaluation_df['M'][i] +=1\n",
      "<ipython-input-45-ed169b5e2dfc>:39: SettingWithCopyWarning: \n",
      "A value is trying to be set on a copy of a slice from a DataFrame\n",
      "\n",
      "See the caveats in the documentation: https://pandas.pydata.org/pandas-docs/stable/user_guide/indexing.html#returning-a-view-versus-a-copy\n",
      "  evaluation_df['P'][i] +=1\n"
     ]
    }
   ],
   "source": [
    "evaluation_tl(data_3, 'location')\n"
   ],
   "metadata": {
    "collapsed": false,
    "pycharm": {
     "name": "#%%\n"
    }
   }
  },
  {
   "cell_type": "code",
   "execution_count": null,
   "outputs": [],
   "source": [],
   "metadata": {
    "collapsed": false,
    "pycharm": {
     "name": "#%%\n"
    }
   }
  }
 ],
 "metadata": {
  "kernelspec": {
   "display_name": "Python 3",
   "language": "python",
   "name": "python3"
  },
  "language_info": {
   "codemirror_mode": {
    "name": "ipython",
    "version": 3
   },
   "file_extension": ".py",
   "mimetype": "text/x-python",
   "name": "python",
   "nbconvert_exporter": "python",
   "pygments_lexer": "ipython3",
   "version": "3.8.9"
  }
 },
 "nbformat": 4,
 "nbformat_minor": 0
}